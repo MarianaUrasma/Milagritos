{
  "nbformat": 4,
  "nbformat_minor": 0,
  "metadata": {
    "colab": {
      "provenance": [],
      "collapsed_sections": [
        "0n3j_3ObPibb",
        "c7kPdX8alR28",
        "C_8FlNiPm0TF"
      ],
      "gpuType": "T4",
      "authorship_tag": "ABX9TyNVihhRmDQCK4eGbJZetqKx"
    },
    "kernelspec": {
      "name": "python3",
      "display_name": "Python 3"
    },
    "language_info": {
      "name": "python"
    },
    "accelerator": "GPU"
  },
  "cells": [
    {
      "cell_type": "markdown",
      "source": [
        "##**ROPTA**\n",
        "\n"
      ],
      "metadata": {
        "id": "Ln5qwn8qpsx5"
      }
    },
    {
      "cell_type": "markdown",
      "source": [
        "# Nougat OCR"
      ],
      "metadata": {
        "id": "0n3j_3ObPibb"
      }
    },
    {
      "cell_type": "code",
      "source": [
        "# Instalamos la librería Nougat para procesar los pdf\n",
        "from IPython import display\n",
        "import os\n",
        "!pip install nougat-ocr"
      ],
      "metadata": {
        "id": "AeBLnSU-Py4m"
      },
      "execution_count": null,
      "outputs": []
    },
    {
      "cell_type": "code",
      "source": [
        "# Llamamos a un pdf que conseguimos en arxiv y le pedimos que lo descargue\n",
        "!curl -o quantum_physics.pdf https://arxiv.org/pdf/2302.00078.pdf"
      ],
      "metadata": {
        "id": "tewq_ByMcRuK"
      },
      "execution_count": null,
      "outputs": []
    },
    {
      "cell_type": "code",
      "source": [
        "# Acá le pedimos que lo procese y lo guarde en una carpeta\n",
        "!nougat pdf '/content/Nougat/Input/Estructura Fina.pdf' --out '/content/Nougat/Output'"
      ],
      "metadata": {
        "id": "qmfm0KJZfu5C"
      },
      "execution_count": null,
      "outputs": []
    },
    {
      "cell_type": "code",
      "source": [
        "# Aquí mostramos el resultado en formato mmd\n",
        "display.Markdown('/content/Nougat/output/*.mmd')"
      ],
      "metadata": {
        "id": "QVsl-G9SgPqJ"
      },
      "execution_count": null,
      "outputs": []
    },
    {
      "cell_type": "code",
      "source": [
        "from google.colab import drive\n",
        "drive.mount('/content/drive')"
      ],
      "metadata": {
        "id": "WXo2xKt94QA-"
      },
      "execution_count": null,
      "outputs": []
    },
    {
      "cell_type": "code",
      "source": [
        "# Aquí mostramos el resultado en formato Latex\n",
        "display.Latex('ToOverleaf.mmd')"
      ],
      "metadata": {
        "id": "NxOfO-OfSFFI"
      },
      "execution_count": null,
      "outputs": []
    },
    {
      "cell_type": "code",
      "source": [
        "# Repetimos el proceso anterior para otro pdf que está formado por fotos de un libro\n",
        "!curl -o dirac.pdf https://www.informationphilosopher.com/solutions/scientists/dirac/Fund_QM_1925.pdf"
      ],
      "metadata": {
        "id": "WSh5N7LInBuC"
      },
      "execution_count": null,
      "outputs": []
    },
    {
      "cell_type": "code",
      "source": [
        "!nougat pdf '/content/Nougat/Input/ScannedPdf.pdf' --out 'output'"
      ],
      "metadata": {
        "id": "6LRu3kDYgwvB"
      },
      "execution_count": null,
      "outputs": []
    },
    {
      "cell_type": "code",
      "source": [
        "display.Markdown('/content/Nougat/Output/ToOverleaf.mmd')"
      ],
      "metadata": {
        "id": "AbyCeD1fR_o8"
      },
      "execution_count": null,
      "outputs": []
    },
    {
      "cell_type": "markdown",
      "source": [
        "Es posible hacer este proceso para varios archivos a la vez, sin embargo, requiere de mucha capacidad de computo por lo que omitimos esta función."
      ],
      "metadata": {
        "id": "VsZ1wRri82kW"
      }
    },
    {
      "cell_type": "code",
      "source": [
        "# Aquí subimos un archivo local y lo procesamos\n",
        "!nougat pdf '/content/CamScanner 10-21-2023 21.41.pdf' --out 'output' --no-skipping"
      ],
      "metadata": {
        "id": "je8yvzj7kZf7"
      },
      "execution_count": null,
      "outputs": []
    },
    {
      "cell_type": "code",
      "source": [
        "display.Markdown('/content/CamScanner 10-21-2023 21.41.pdf.mmd')"
      ],
      "metadata": {
        "id": "VX0XJuct-ZFx"
      },
      "execution_count": null,
      "outputs": []
    },
    {
      "cell_type": "markdown",
      "source": [
        "# RESUMEN DE ROPTA"
      ],
      "metadata": {
        "id": "c7kPdX8alR28"
      }
    },
    {
      "cell_type": "markdown",
      "source": [
        "Instalación"
      ],
      "metadata": {
        "id": "XolNuNGnXhB-"
      }
    },
    {
      "cell_type": "code",
      "execution_count": null,
      "metadata": {
        "id": "-YxXArqA9fNe"
      },
      "outputs": [],
      "source": [
        "!pip install langchain\n",
        "!pip install openai\n",
        "!pip install chromadb\n",
        "!pip install pypdf\n",
        "!pip install tiktoken"
      ]
    },
    {
      "cell_type": "code",
      "source": [
        "from langchain.chains.summarize import load_summarize_chain\n",
        "from langchain.document_loaders import PyPDFLoader\n",
        "from langchain import OpenAI, PromptTemplate\n",
        "import glob"
      ],
      "metadata": {
        "id": "EQu2gqb89nuT"
      },
      "execution_count": 4,
      "outputs": []
    },
    {
      "cell_type": "markdown",
      "source": [
        "APi Key OpenAI"
      ],
      "metadata": {
        "id": "oAI_P10KleEJ"
      }
    },
    {
      "cell_type": "code",
      "source": [
        "#Aqui Usuario añade el Api Key de OpenAI\n",
        "\n",
        "llm = OpenAI(temperature=0.2 , openai_api_key=\"INSERTE_SU_API_KEY_AQUI\")"
      ],
      "metadata": {
        "id": "1gedstzOeBUY"
      },
      "execution_count": 9,
      "outputs": []
    },
    {
      "cell_type": "markdown",
      "source": [
        "Función Resumen"
      ],
      "metadata": {
        "id": "eI3rfaLcliat"
      }
    },
    {
      "cell_type": "code",
      "source": [
        "#Definición Resumen Personalizado\n",
        "def custom_summary(pdf_folder, custom_prompt):\n",
        "    summaries = []\n",
        "    for pdf_file in glob.glob(pdf_folder + \"/*.pdf\"):\n",
        "        loader = PyPDFLoader(pdf_file)\n",
        "        docs = loader.load_and_split()\n",
        "        prompt_template = custom_prompt + \"\"\"\n",
        "\n",
        "        {text}\n",
        "\n",
        "        SUMMARY:\"\"\"\n",
        "        PROMPT = PromptTemplate(template=prompt_template, input_variables=[\"text\"])\n",
        "        chain = load_summarize_chain(llm, chain_type=\"map_reduce\",\n",
        "                                    map_prompt=PROMPT, combine_prompt=PROMPT)\n",
        "        summary_output = chain({\"input_documents\": docs},return_only_outputs=True)[\"output_text\"]\n",
        "        summaries.append(summary_output)\n",
        "\n",
        "    return summaries"
      ],
      "metadata": {
        "id": "LUSnpdH09v4w"
      },
      "execution_count": 6,
      "outputs": []
    },
    {
      "cell_type": "markdown",
      "source": [
        "Ejecución Resumen"
      ],
      "metadata": {
        "id": "s7rdb6Q_pgKf"
      }
    },
    {
      "cell_type": "code",
      "source": [
        "CUSTOM_PROMPT = \"Write a detailed summary of the document. The summary should be approximately 25% of the length of the original text\"\n",
        "custom_summaries = custom_summary(\"./pdfs\", custom_prompt=CUSTOM_PROMPT)\n",
        "\n",
        "#Guardar todos los resúmenes a un solo .txt\n",
        "with open(\"custom_summaries.txt\", \"w\") as f:\n",
        "  for summary in custom_summaries:\n",
        "    f.write(summary + \"\\n\"*3)"
      ],
      "metadata": {
        "id": "E9ZU5XZh-Abd"
      },
      "execution_count": null,
      "outputs": []
    },
    {
      "cell_type": "markdown",
      "source": [
        "# PREGUNTAS AL ROPTA"
      ],
      "metadata": {
        "id": "C_8FlNiPm0TF"
      }
    },
    {
      "cell_type": "code",
      "source": [
        "from langchain.indexes import VectorstoreIndexCreator\n",
        "from langchain.document_loaders import PyPDFDirectoryLoader\n",
        "import os\n",
        "\n",
        "# Establece la clave de la API como una variable de entorno\n",
        "os.environ['OPENAI_API_KEY'] = 'INSERTE_SU_API_KEY_AQUI'\n",
        "# Python!\n",
        "loader = PyPDFDirectoryLoader(\"/content/pdfs/\")\n",
        "\n",
        "docs = loader.load()\n",
        "\n",
        "# Create the vector store index\n",
        "index = VectorstoreIndexCreator().from_loaders([loader])\n",
        "\n",
        "# Realiza una consulta\n",
        "query = \"¿Cuál es la relación entre las transformaciones lineales y la teoría de grupos?\"\n",
        "response = index.query(query)\n",
        "\n",
        "print(f\"Respuesta: {response}\")"
      ],
      "metadata": {
        "id": "vgju1y1VkDNx"
      },
      "execution_count": null,
      "outputs": []
    }
  ]
}